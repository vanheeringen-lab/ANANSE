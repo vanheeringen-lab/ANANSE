{
 "cells": [
  {
   "cell_type": "code",
   "execution_count": 2,
   "id": "b5b21a87",
   "metadata": {},
   "outputs": [],
   "source": [
    "from glob import glob\n",
    "import os\n",
    "import pandas as pd\n",
    "\n",
    "WORK_DIR = \"/bheuts/ANANSE-CAGE/data/hg19\""
   ]
  },
  {
   "cell_type": "code",
   "execution_count": null,
   "id": "fe49bb0d",
   "metadata": {},
   "outputs": [],
   "source": [
    "# Optional\n",
    "# Motif scan to speed up ANANSE benchmarking\n",
    "for dir_name in os.listdir(f\"{WORK_DIR}\"):\n",
    "    if not dir_name == \"220504_ANANSE-CAGE-run.ipynb\" and not dir_name == \".ipynb_checkpoints\":\n",
    "        for fname in glob(f\"{dir_name}/enhancers_*.bed\"): \n",
    "            ! rm {fname}\n",
    "        for fname in glob(f\"{dir_name}/enhancers_*.tsv\"): \n",
    "            fname_new = fname.replace(\".tsv\", \".bed\")\n",
    "            df = pd.read_table(fname)\n",
    "            regions = df[\"pos\"].str.split('[:-]', expand=True)\n",
    "            regions.columns = [\"chrom\", \"start\", \"end\"]\n",
    "            regions[\"start\"] = regions[\"start\"].astype(int)\n",
    "            regions[\"end\"] = regions[\"end\"].astype(int)\n",
    "\n",
    "            center = ((regions[\"start\"] + regions[\"end\"]) / 2).astype(int)\n",
    "            regions[\"start\"] = center - 100\n",
    "            regions[\"end\"] = center + 100\n",
    "\n",
    "            regions.to_csv(fname_new, header=False, index=False, sep=\"\\t\")\n",
    "\n",
    "        for fname in glob(f\"{dir_name}/enhancers_*.bed\"):         \n",
    "            fname_new = fname.replace(\".bed\", \"\")\n",
    "            ! nice -n 15 gimme scan -Tz --gc -g hg19 {fname} > {fname_new}_SCAN.tsv"
   ]
  },
  {
   "cell_type": "code",
   "execution_count": null,
   "id": "3ffa18d0",
   "metadata": {},
   "outputs": [],
   "source": [
    "EDGES = [\n",
    "    500000\n",
    "]\n",
    "JACCARD_CUTOFF = [\n",
    "    0.1,\n",
    "]\n",
    "\n",
    "OUT_DIR = \"results\"\n",
    "\n",
    "\n",
    "# ANANSE RUN\n",
    "for dir_name in os.listdir(f\"{WORK_DIR}\"):\n",
    "    if not dir_name == \"220504_ANANSE-CAGE-run.ipynb\" and not dir_name == \".ipynb_checkpoints\":\n",
    "        \n",
    "        for cutoff in JACCARD_CUTOFF:\n",
    "            if cutoff == 0.1:\n",
    "                OUT_DIR_JACCARD = f\"{OUT_DIR}/jaccard_01\"\n",
    "            if not os.path.exists(f\"{dir_name}/{OUT_DIR_JACCARD}\"):\n",
    "             \n",
    "                # ANANSE BINDING\n",
    "                # Source\n",
    "                ! nice -n 15 ananse binding -C {dir_name}/enhancers_source.tsv -o {dir_name}/{OUT_DIR_JACCARD}/source_binding -g hg19 --jaccard-cutoff {cutoff} --pfmscorefile {dir_name}/enhancers_source_SCAN.tsv\n",
    "                \n",
    "                # Target\n",
    "                ! nice -n 15 ananse binding -C {dir_name}/enhancers_target.tsv -o {dir_name}/{OUT_DIR_JACCARD}/target_binding -g hg19 --jaccard-cutoff {cutoff} --pfmscorefile {dir_name}/enhancers_target_SCAN.tsv\n",
    "\n",
    "\n",
    "                # ANANSE NETWORK\n",
    "                # Source\n",
    "                ! nice -n 15 ananse network {dir_name}/{OUT_DIR_JACCARD}/source_binding/binding.h5 -e {dir_name}/TPM_source_*.txt -o {dir_name}/{OUT_DIR_JACCARD}/network_source.tsv -g hg19\n",
    "                \n",
    "                # Target\n",
    "                ! nice -n 15 ananse network {dir_name}/{OUT_DIR_JACCARD}/target_binding/binding.h5 -e {dir_name}/TPM_target_*.txt -o {dir_name}/{OUT_DIR_JACCARD}/network_target.tsv -g hg19\n",
    "\n",
    "            for edge in EDGES:\n",
    "                if edge == 500000:\n",
    "                    OUT_DIR_EDGE = f\"{OUT_DIR_JACCARD}/edges_500k\"\n",
    "\n",
    "                if not os.path.exists(f\"{dir_name}/{OUT_DIR_EDGE}\"):\n",
    "                    ! mkdir {dir_name}/{OUT_DIR_EDGE}\n",
    "\n",
    "            # ANANSE INFLUENCE\n",
    "            ! nice -n 15 ananse influence -s {dir_name}/{OUT_DIR_JACCARD}/network_source.tsv -t {dir_name}/{OUT_DIR_JACCARD}/network_target.tsv -d {dir_name}/DE_genes.txt -o {dir_name}/{OUT_DIR_EDGE}/influence.tsv -i {edge} -n 24\n",
    "            ! nice -n 15 ananse plot {dir_name}/{OUT_DIR_EDGE}/influence.tsv -d {dir_name}/{OUT_DIR_EDGE}/influence_diffnetwork.tsv -o {dir_name}/{OUT_DIR_EDGE}"
   ]
  }
 ],
 "metadata": {
  "kernelspec": {
   "display_name": "Python 3 (ipykernel)",
   "language": "python",
   "name": "python3"
  },
  "language_info": {
   "codemirror_mode": {
    "name": "ipython",
    "version": 3
   },
   "file_extension": ".py",
   "mimetype": "text/x-python",
   "name": "python",
   "nbconvert_exporter": "python",
   "pygments_lexer": "ipython3",
   "version": "3.9.9"
  }
 },
 "nbformat": 4,
 "nbformat_minor": 5
}
